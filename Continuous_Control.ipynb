{
 "cells": [
  {
   "cell_type": "markdown",
   "metadata": {},
   "source": [
    "# Continuous Control\n",
    "\n",
    "---\n",
    "\n",
    "You are welcome to use this coding environment to train your agent for the project.  Follow the instructions below to get started!\n",
    "\n",
    "### 1. Start the Environment\n",
    "\n",
    "Run the next code cell to install a few packages.  This line will take a few minutes to run!"
   ]
  },
  {
   "cell_type": "code",
   "execution_count": 1,
   "metadata": {},
   "outputs": [
    {
     "name": "stdout",
     "output_type": "stream",
     "text": [
      "\u001b[31mtensorflow 1.7.1 has requirement numpy>=1.13.3, but you'll have numpy 1.12.1 which is incompatible.\u001b[0m\r\n",
      "\u001b[31mipython 6.5.0 has requirement prompt-toolkit<2.0.0,>=1.0.15, but you'll have prompt-toolkit 3.0.20 which is incompatible.\u001b[0m\r\n"
     ]
    }
   ],
   "source": [
    "!pip -q install ./python"
   ]
  },
  {
   "cell_type": "markdown",
   "metadata": {},
   "source": [
    "The environments corresponding to both versions of the environment are already saved in the Workspace and can be accessed at the file paths provided below.  \n",
    "\n",
    "Please select one of the two options below for loading the environment."
   ]
  },
  {
   "cell_type": "code",
   "execution_count": 2,
   "metadata": {},
   "outputs": [
    {
     "name": "stderr",
     "output_type": "stream",
     "text": [
      "INFO:unityagents:\n",
      "'Academy' started successfully!\n",
      "Unity Academy name: Academy\n",
      "        Number of Brains: 1\n",
      "        Number of External Brains : 1\n",
      "        Lesson number : 0\n",
      "        Reset Parameters :\n",
      "\t\tgoal_speed -> 1.0\n",
      "\t\tgoal_size -> 5.0\n",
      "Unity brain name: ReacherBrain\n",
      "        Number of Visual Observations (per agent): 0\n",
      "        Vector Observation space type: continuous\n",
      "        Vector Observation space size (per agent): 33\n",
      "        Number of stacked Vector Observation: 1\n",
      "        Vector Action space type: continuous\n",
      "        Vector Action space size (per agent): 4\n",
      "        Vector Action descriptions: , , , \n"
     ]
    }
   ],
   "source": [
    "from unityagents import UnityEnvironment\n",
    "import numpy as np\n",
    "\n",
    "# select this option to load version 1 (with a single agent) of the environment\n",
    "#env = UnityEnvironment(file_name='/data/Reacher_One_Linux_NoVis/Reacher_One_Linux_NoVis.x86_64')\n",
    "\n",
    "#select this option to load version 2 (with 20 agents) of the environment\n",
    "env = UnityEnvironment(file_name='/data/Reacher_Linux_NoVis/Reacher.x86_64')"
   ]
  },
  {
   "cell_type": "markdown",
   "metadata": {},
   "source": [
    "Environments contain **_brains_** which are responsible for deciding the actions of their associated agents. Here we check for the first brain available, and set it as the default brain we will be controlling from Python."
   ]
  },
  {
   "cell_type": "code",
   "execution_count": 3,
   "metadata": {},
   "outputs": [],
   "source": [
    "# get the default brain\n",
    "brain_name = env.brain_names[0]\n",
    "brain = env.brains[brain_name]"
   ]
  },
  {
   "cell_type": "markdown",
   "metadata": {},
   "source": [
    "### 2. Examine the State and Action Spaces\n",
    "\n",
    "Run the code cell below to print some information about the environment."
   ]
  },
  {
   "cell_type": "code",
   "execution_count": 4,
   "metadata": {},
   "outputs": [
    {
     "name": "stdout",
     "output_type": "stream",
     "text": [
      "Number of agents: 20\n",
      "Size of each action: 4\n",
      "There are 20 agents. Each observes a state with length: 33\n",
      "The state for the first agent looks like: [  0.00000000e+00  -4.00000000e+00   0.00000000e+00   1.00000000e+00\n",
      "  -0.00000000e+00  -0.00000000e+00  -4.37113883e-08   0.00000000e+00\n",
      "   0.00000000e+00   0.00000000e+00   0.00000000e+00   0.00000000e+00\n",
      "   0.00000000e+00   0.00000000e+00  -1.00000000e+01   0.00000000e+00\n",
      "   1.00000000e+00  -0.00000000e+00  -0.00000000e+00  -4.37113883e-08\n",
      "   0.00000000e+00   0.00000000e+00   0.00000000e+00   0.00000000e+00\n",
      "   0.00000000e+00   0.00000000e+00   5.75471878e+00  -1.00000000e+00\n",
      "   5.55726624e+00   0.00000000e+00   1.00000000e+00   0.00000000e+00\n",
      "  -1.68164849e-01]\n"
     ]
    }
   ],
   "source": [
    "# reset the environment\n",
    "env_info = env.reset(train_mode=True)[brain_name]\n",
    "\n",
    "# number of agents\n",
    "num_agents = len(env_info.agents)\n",
    "print('Number of agents:', num_agents)\n",
    "\n",
    "# size of each action\n",
    "action_size = brain.vector_action_space_size\n",
    "print('Size of each action:', action_size)\n",
    "\n",
    "# examine the state space \n",
    "states = env_info.vector_observations\n",
    "state_size = states.shape[1]\n",
    "print('There are {} agents. Each observes a state with length: {}'.format(states.shape[0], state_size))\n",
    "print('The state for the first agent looks like:', states[0])"
   ]
  },
  {
   "cell_type": "markdown",
   "metadata": {},
   "source": [
    "### 3. Take Random Actions in the Environment\n",
    "\n",
    "In the next code cell, you will learn how to use the Python API to control the agent and receive feedback from the environment.\n",
    "\n",
    "Note that **in this coding environment, you will not be able to watch the agents while they are training**, and you should set `train_mode=True` to restart the environment."
   ]
  },
  {
   "cell_type": "code",
   "execution_count": 5,
   "metadata": {},
   "outputs": [
    {
     "name": "stdout",
     "output_type": "stream",
     "text": [
      "Total score (averaged over agents) this episode: 0.25849999422207476\n"
     ]
    }
   ],
   "source": [
    "env_info = env.reset(train_mode=True)[brain_name]      # reset the environment    \n",
    "states = env_info.vector_observations                  # get the current state (for each agent)\n",
    "scores = np.zeros(num_agents)                          # initialize the score (for each agent)\n",
    "while True:\n",
    "    actions = np.random.randn(num_agents, action_size) # select an action (for each agent)\n",
    "    actions = np.clip(actions, -1, 1)                  # all actions between -1 and 1\n",
    "    env_info = env.step(actions)[brain_name]           # send all actions to tne environment\n",
    "    next_states = env_info.vector_observations         # get next state (for each agent)\n",
    "    rewards = env_info.rewards                         # get reward (for each agent)\n",
    "    dones = env_info.local_done                        # see if episode finished\n",
    "    scores += env_info.rewards                         # update the score (for each agent)\n",
    "    states = next_states                               # roll over states to next time step\n",
    "    if np.any(dones):                                  # exit loop if episode finished\n",
    "        break\n",
    "print('Total score (averaged over agents) this episode: {}'.format(np.mean(scores)))"
   ]
  },
  {
   "cell_type": "markdown",
   "metadata": {},
   "source": [
    "### 4. It's Your Turn!\n",
    "\n",
    "Now it's your turn to train your own agent to solve the environment!  A few **important notes**:\n",
    "- When training the environment, set `train_mode=True`, so that the line for resetting the environment looks like the following:\n",
    "```python\n",
    "env_info = env.reset(train_mode=True)[brain_name]\n",
    "```\n",
    "- To structure your work, you're welcome to work directly in this Jupyter notebook, or you might like to start over with a new file!  You can see the list of files in the workspace by clicking on **_Jupyter_** in the top left corner of the notebook.\n",
    "- In this coding environment, you will not be able to watch the agents while they are training.  However, **_after training the agents_**, you can download the saved model weights to watch the agents on your own machine! "
   ]
  },
  {
   "cell_type": "code",
   "execution_count": 6,
   "metadata": {},
   "outputs": [],
   "source": [
    "from collections import deque\n",
    "import torch\n",
    "from ddpg_agent import Agent"
   ]
  },
  {
   "cell_type": "code",
   "execution_count": 7,
   "metadata": {},
   "outputs": [],
   "source": [
    "agent = Agent(state_size=state_size, action_size=action_size, random_seed=10)"
   ]
  },
  {
   "cell_type": "code",
   "execution_count": 8,
   "metadata": {},
   "outputs": [],
   "source": [
    "def ddpg(n_episodes=1000, max_t=10000, print_every=100):\n",
    "    scores_deque = deque(maxlen=100)\n",
    "    scores = []\n",
    "    scores_mean = []\n",
    "    \n",
    "    for i_episode in range(1, n_episodes+1):\n",
    "        env_info = env.reset(train_mode=True)[brain_name]\n",
    "        states = env_info.vector_observations\n",
    "        agent.reset()\n",
    "        score = np.zeros(num_agents)\n",
    "        \n",
    "        for t in range(max_t):\n",
    "            actions = agent.act(states)\n",
    "\n",
    "            env_info = env.step(actions)[brain_name]\n",
    "            next_states = env_info.vector_observations\n",
    "            rewards = env_info.rewards\n",
    "            dones = env_info.local_done\n",
    "            \n",
    "            for state, action, reward, next_state, done in zip(states, actions, rewards, next_states, dones):\n",
    "                agent.step(state, action, reward, next_state, done, t)\n",
    "\n",
    "            states = next_states\n",
    "            score += rewards\n",
    "            if np.any(dones):\n",
    "                break \n",
    "                \n",
    "        scores_deque.append(np.mean(score))\n",
    "        scores.append(np.mean(score))\n",
    "        scores_mean.append(np.mean(scores_deque))\n",
    "        \n",
    "        print('\\rEpisode {}\\tMin Score: {:.2f}\\tMax Score: {:.2f}\\tAverage Score: {:.2f}\\tScore: {:.2f}'.format(i_episode, np.min(score), np.max(score), scores_mean[-1], scores[-1]))\n",
    "        \n",
    "        if i_episode % 100 == 0:\n",
    "            torch.save(agent.actor_local.state_dict(), 'checkpoint_actor.pth')\n",
    "            torch.save(agent.critic_local.state_dict(), 'checkpoint_critic.pth')\n",
    "            print('\\rEpisode {}\\tAverage Score: {:.2f}'.format(i_episode, np.mean(scores_deque)))\n",
    "            \n",
    "        if np.mean(scores_deque)>=30.0:\n",
    "            torch.save(agent.actor_local.state_dict(), 'checkpoint_actor.pth')\n",
    "            torch.save(agent.critic_local.state_dict(), 'checkpoint_critic.pth')\n",
    "            print('\\nEnvironment solved in {:d} episodes!\\tAverage Score: {:.2f}'.format(i_episode, np.mean(scores_deque)))\n",
    "            break\n",
    "    return scores, scores_mean"
   ]
  },
  {
   "cell_type": "code",
   "execution_count": 9,
   "metadata": {},
   "outputs": [
    {
     "name": "stdout",
     "output_type": "stream",
     "text": [
      "Episode 1\tMin Score: 0.10\tMax Score: 2.30\tAverage Score: 1.02\tScore: 1.02\n",
      "Episode 2\tMin Score: 1.02\tMax Score: 5.06\tAverage Score: 1.73\tScore: 2.45\n",
      "Episode 3\tMin Score: 1.52\tMax Score: 4.53\tAverage Score: 2.22\tScore: 3.18\n",
      "Episode 4\tMin Score: 2.13\tMax Score: 6.31\tAverage Score: 2.71\tScore: 4.19\n",
      "Episode 5\tMin Score: 1.18\tMax Score: 5.60\tAverage Score: 2.80\tScore: 3.15\n",
      "Episode 6\tMin Score: 1.19\tMax Score: 5.90\tAverage Score: 2.93\tScore: 3.63\n",
      "Episode 7\tMin Score: 1.65\tMax Score: 6.96\tAverage Score: 3.09\tScore: 4.00\n",
      "Episode 8\tMin Score: 2.11\tMax Score: 9.28\tAverage Score: 3.32\tScore: 4.93\n",
      "Episode 9\tMin Score: 1.29\tMax Score: 8.32\tAverage Score: 3.45\tScore: 4.50\n",
      "Episode 10\tMin Score: 1.58\tMax Score: 7.25\tAverage Score: 3.61\tScore: 5.08\n",
      "Episode 11\tMin Score: 1.15\tMax Score: 9.14\tAverage Score: 3.72\tScore: 4.80\n",
      "Episode 12\tMin Score: 2.23\tMax Score: 11.17\tAverage Score: 3.92\tScore: 6.11\n",
      "Episode 13\tMin Score: 2.47\tMax Score: 11.83\tAverage Score: 4.13\tScore: 6.65\n",
      "Episode 14\tMin Score: 1.69\tMax Score: 13.68\tAverage Score: 4.23\tScore: 5.53\n",
      "Episode 15\tMin Score: 1.21\tMax Score: 12.78\tAverage Score: 4.34\tScore: 5.94\n",
      "Episode 16\tMin Score: 1.57\tMax Score: 15.01\tAverage Score: 4.51\tScore: 6.98\n",
      "Episode 17\tMin Score: 1.69\tMax Score: 18.67\tAverage Score: 4.77\tScore: 8.96\n",
      "Episode 18\tMin Score: 2.56\tMax Score: 31.55\tAverage Score: 5.19\tScore: 12.30\n",
      "Episode 19\tMin Score: 1.92\tMax Score: 23.16\tAverage Score: 5.43\tScore: 9.81\n",
      "Episode 20\tMin Score: 3.65\tMax Score: 28.85\tAverage Score: 5.72\tScore: 11.08\n",
      "Episode 21\tMin Score: 2.14\tMax Score: 21.61\tAverage Score: 5.99\tScore: 11.48\n",
      "Episode 22\tMin Score: 3.80\tMax Score: 22.28\tAverage Score: 6.36\tScore: 14.05\n",
      "Episode 23\tMin Score: 2.66\tMax Score: 22.84\tAverage Score: 6.60\tScore: 11.90\n",
      "Episode 24\tMin Score: 1.24\tMax Score: 25.45\tAverage Score: 6.78\tScore: 11.04\n",
      "Episode 25\tMin Score: 1.66\tMax Score: 33.52\tAverage Score: 7.08\tScore: 14.16\n",
      "Episode 26\tMin Score: 3.29\tMax Score: 25.26\tAverage Score: 7.33\tScore: 13.54\n",
      "Episode 27\tMin Score: 2.88\tMax Score: 22.41\tAverage Score: 7.52\tScore: 12.67\n",
      "Episode 28\tMin Score: 4.49\tMax Score: 32.93\tAverage Score: 7.73\tScore: 13.41\n",
      "Episode 29\tMin Score: 1.97\tMax Score: 29.40\tAverage Score: 7.78\tScore: 9.03\n",
      "Episode 30\tMin Score: 0.58\tMax Score: 25.31\tAverage Score: 7.85\tScore: 9.82\n",
      "Episode 31\tMin Score: 1.86\tMax Score: 30.22\tAverage Score: 7.98\tScore: 12.08\n",
      "Episode 32\tMin Score: 3.97\tMax Score: 21.56\tAverage Score: 8.14\tScore: 13.04\n",
      "Episode 33\tMin Score: 0.42\tMax Score: 23.81\tAverage Score: 8.20\tScore: 9.92\n",
      "Episode 34\tMin Score: 2.08\tMax Score: 24.35\tAverage Score: 8.28\tScore: 10.95\n",
      "Episode 35\tMin Score: 0.94\tMax Score: 21.05\tAverage Score: 8.34\tScore: 10.59\n",
      "Episode 36\tMin Score: 1.13\tMax Score: 24.82\tAverage Score: 8.40\tScore: 10.40\n",
      "Episode 37\tMin Score: 2.11\tMax Score: 24.28\tAverage Score: 8.48\tScore: 11.49\n",
      "Episode 38\tMin Score: 0.88\tMax Score: 24.15\tAverage Score: 8.47\tScore: 8.11\n",
      "Episode 39\tMin Score: 1.25\tMax Score: 22.97\tAverage Score: 8.52\tScore: 10.28\n",
      "Episode 40\tMin Score: 2.85\tMax Score: 19.61\tAverage Score: 8.53\tScore: 9.03\n",
      "Episode 41\tMin Score: 0.49\tMax Score: 38.34\tAverage Score: 8.63\tScore: 12.70\n",
      "Episode 42\tMin Score: 3.50\tMax Score: 22.38\tAverage Score: 8.71\tScore: 12.01\n",
      "Episode 43\tMin Score: 0.46\tMax Score: 31.12\tAverage Score: 8.77\tScore: 11.27\n",
      "Episode 44\tMin Score: 1.63\tMax Score: 29.20\tAverage Score: 8.81\tScore: 10.32\n",
      "Episode 45\tMin Score: 1.23\tMax Score: 27.82\tAverage Score: 8.87\tScore: 11.64\n",
      "Episode 46\tMin Score: 1.18\tMax Score: 36.68\tAverage Score: 9.04\tScore: 16.43\n",
      "Episode 47\tMin Score: 2.72\tMax Score: 23.56\tAverage Score: 9.07\tScore: 10.41\n",
      "Episode 48\tMin Score: 0.59\tMax Score: 38.99\tAverage Score: 9.17\tScore: 14.10\n",
      "Episode 49\tMin Score: 0.35\tMax Score: 27.38\tAverage Score: 9.30\tScore: 15.46\n",
      "Episode 50\tMin Score: 0.44\tMax Score: 29.07\tAverage Score: 9.39\tScore: 13.76\n",
      "Episode 51\tMin Score: 2.15\tMax Score: 31.36\tAverage Score: 9.50\tScore: 15.05\n",
      "Episode 52\tMin Score: 1.71\tMax Score: 35.19\tAverage Score: 9.63\tScore: 16.06\n",
      "Episode 53\tMin Score: 1.03\tMax Score: 31.29\tAverage Score: 9.73\tScore: 15.32\n",
      "Episode 54\tMin Score: 2.65\tMax Score: 28.50\tAverage Score: 9.89\tScore: 18.25\n",
      "Episode 55\tMin Score: 3.77\tMax Score: 38.29\tAverage Score: 10.07\tScore: 19.59\n",
      "Episode 56\tMin Score: 1.70\tMax Score: 24.46\tAverage Score: 10.13\tScore: 13.46\n",
      "Episode 57\tMin Score: 3.27\tMax Score: 27.30\tAverage Score: 10.20\tScore: 14.34\n",
      "Episode 58\tMin Score: 4.44\tMax Score: 30.97\tAverage Score: 10.32\tScore: 17.28\n",
      "Episode 59\tMin Score: 0.70\tMax Score: 28.70\tAverage Score: 10.44\tScore: 17.24\n",
      "Episode 60\tMin Score: 1.95\tMax Score: 34.80\tAverage Score: 10.56\tScore: 17.68\n",
      "Episode 61\tMin Score: 2.33\tMax Score: 35.62\tAverage Score: 10.71\tScore: 19.59\n",
      "Episode 62\tMin Score: 4.45\tMax Score: 28.28\tAverage Score: 10.82\tScore: 17.60\n",
      "Episode 63\tMin Score: 1.92\tMax Score: 28.82\tAverage Score: 10.90\tScore: 15.91\n",
      "Episode 64\tMin Score: 5.45\tMax Score: 36.61\tAverage Score: 11.03\tScore: 18.93\n",
      "Episode 65\tMin Score: 2.99\tMax Score: 27.25\tAverage Score: 11.13\tScore: 17.65\n",
      "Episode 66\tMin Score: 4.19\tMax Score: 32.13\tAverage Score: 11.26\tScore: 19.72\n",
      "Episode 67\tMin Score: 1.26\tMax Score: 29.33\tAverage Score: 11.36\tScore: 18.12\n",
      "Episode 68\tMin Score: 2.62\tMax Score: 39.17\tAverage Score: 11.51\tScore: 21.39\n",
      "Episode 69\tMin Score: 2.42\tMax Score: 26.63\tAverage Score: 11.60\tScore: 18.11\n",
      "Episode 70\tMin Score: 1.40\tMax Score: 38.70\tAverage Score: 11.77\tScore: 23.29\n",
      "Episode 71\tMin Score: 1.82\tMax Score: 30.32\tAverage Score: 11.90\tScore: 20.87\n",
      "Episode 72\tMin Score: 5.89\tMax Score: 36.07\tAverage Score: 12.02\tScore: 20.60\n",
      "Episode 73\tMin Score: 1.15\tMax Score: 29.62\tAverage Score: 12.11\tScore: 18.41\n",
      "Episode 74\tMin Score: 3.85\tMax Score: 30.93\tAverage Score: 12.17\tScore: 17.07\n",
      "Episode 75\tMin Score: 8.80\tMax Score: 31.10\tAverage Score: 12.30\tScore: 21.38\n",
      "Episode 76\tMin Score: 2.84\tMax Score: 39.25\tAverage Score: 12.40\tScore: 19.95\n",
      "Episode 77\tMin Score: 1.82\tMax Score: 39.15\tAverage Score: 12.48\tScore: 18.64\n",
      "Episode 78\tMin Score: 5.07\tMax Score: 30.09\tAverage Score: 12.58\tScore: 20.50\n",
      "Episode 79\tMin Score: 3.55\tMax Score: 32.33\tAverage Score: 12.67\tScore: 19.66\n",
      "Episode 80\tMin Score: 9.18\tMax Score: 30.86\tAverage Score: 12.81\tScore: 23.41\n",
      "Episode 81\tMin Score: 0.85\tMax Score: 31.94\tAverage Score: 12.90\tScore: 20.70\n",
      "Episode 82\tMin Score: 1.42\tMax Score: 36.83\tAverage Score: 12.98\tScore: 19.48\n",
      "Episode 83\tMin Score: 3.71\tMax Score: 32.05\tAverage Score: 13.10\tScore: 22.59\n",
      "Episode 84\tMin Score: 3.23\tMax Score: 37.12\tAverage Score: 13.21\tScore: 22.09\n",
      "Episode 85\tMin Score: 1.70\tMax Score: 30.01\tAverage Score: 13.28\tScore: 19.85\n",
      "Episode 86\tMin Score: 4.29\tMax Score: 35.33\tAverage Score: 13.37\tScore: 20.71\n",
      "Episode 87\tMin Score: 4.25\tMax Score: 32.78\tAverage Score: 13.49\tScore: 23.82\n",
      "Episode 88\tMin Score: 4.96\tMax Score: 30.36\tAverage Score: 13.57\tScore: 20.63\n",
      "Episode 89\tMin Score: 3.46\tMax Score: 30.07\tAverage Score: 13.63\tScore: 18.57\n",
      "Episode 90\tMin Score: 14.05\tMax Score: 30.82\tAverage Score: 13.73\tScore: 22.55\n",
      "Episode 91\tMin Score: 6.50\tMax Score: 35.79\tAverage Score: 13.79\tScore: 19.80\n",
      "Episode 92\tMin Score: 6.15\tMax Score: 30.15\tAverage Score: 13.87\tScore: 20.47\n",
      "Episode 93\tMin Score: 6.13\tMax Score: 31.43\tAverage Score: 13.93\tScore: 19.97\n",
      "Episode 94\tMin Score: 9.12\tMax Score: 28.24\tAverage Score: 14.04\tScore: 23.67\n",
      "Episode 95\tMin Score: 17.21\tMax Score: 30.98\tAverage Score: 14.15\tScore: 24.92\n",
      "Episode 96\tMin Score: 3.73\tMax Score: 31.21\tAverage Score: 14.23\tScore: 21.71\n",
      "Episode 97\tMin Score: 9.35\tMax Score: 27.51\tAverage Score: 14.30\tScore: 20.68\n",
      "Episode 98\tMin Score: 7.52\tMax Score: 28.83\tAverage Score: 14.40\tScore: 24.45\n",
      "Episode 99\tMin Score: 5.16\tMax Score: 39.51\tAverage Score: 14.49\tScore: 23.60\n",
      "Episode 100\tMin Score: 8.76\tMax Score: 33.05\tAverage Score: 14.60\tScore: 25.45\n",
      "Episode 100\tAverage Score: 14.60\n",
      "Episode 101\tMin Score: 2.20\tMax Score: 36.63\tAverage Score: 14.81\tScore: 21.49\n",
      "Episode 102\tMin Score: 5.49\tMax Score: 32.96\tAverage Score: 15.03\tScore: 24.94\n",
      "Episode 103\tMin Score: 15.77\tMax Score: 32.64\tAverage Score: 15.26\tScore: 25.98\n",
      "Episode 104\tMin Score: 3.33\tMax Score: 32.82\tAverage Score: 15.45\tScore: 23.42\n",
      "Episode 105\tMin Score: 6.22\tMax Score: 36.92\tAverage Score: 15.68\tScore: 25.87\n",
      "Episode 106\tMin Score: 6.79\tMax Score: 38.18\tAverage Score: 15.90\tScore: 25.36\n",
      "Episode 107\tMin Score: 4.67\tMax Score: 38.80\tAverage Score: 16.09\tScore: 23.50\n",
      "Episode 108\tMin Score: 8.65\tMax Score: 31.60\tAverage Score: 16.30\tScore: 25.42\n",
      "Episode 109\tMin Score: 4.48\tMax Score: 32.26\tAverage Score: 16.48\tScore: 23.26\n",
      "Episode 110\tMin Score: 3.27\tMax Score: 37.68\tAverage Score: 16.69\tScore: 25.67\n",
      "Episode 111\tMin Score: 3.56\tMax Score: 33.42\tAverage Score: 16.86\tScore: 21.61\n",
      "Episode 112\tMin Score: 10.83\tMax Score: 33.07\tAverage Score: 17.02\tScore: 22.24\n",
      "Episode 113\tMin Score: 9.71\tMax Score: 31.79\tAverage Score: 17.19\tScore: 23.75\n",
      "Episode 114\tMin Score: 5.58\tMax Score: 31.14\tAverage Score: 17.37\tScore: 23.01\n",
      "Episode 115\tMin Score: 11.66\tMax Score: 33.84\tAverage Score: 17.55\tScore: 24.68\n",
      "Episode 116\tMin Score: 3.12\tMax Score: 34.71\tAverage Score: 17.75\tScore: 26.35\n",
      "Episode 117\tMin Score: 4.52\tMax Score: 36.69\tAverage Score: 17.91\tScore: 25.08\n",
      "Episode 118\tMin Score: 6.59\tMax Score: 39.45\tAverage Score: 17.99\tScore: 20.89\n",
      "Episode 119\tMin Score: 8.63\tMax Score: 35.08\tAverage Score: 18.16\tScore: 25.99\n",
      "Episode 120\tMin Score: 4.86\tMax Score: 37.93\tAverage Score: 18.28\tScore: 23.52\n",
      "Episode 121\tMin Score: 4.62\tMax Score: 37.91\tAverage Score: 18.42\tScore: 25.57\n",
      "Episode 122\tMin Score: 14.86\tMax Score: 33.35\tAverage Score: 18.57\tScore: 28.95\n",
      "Episode 123\tMin Score: 7.51\tMax Score: 39.16\tAverage Score: 18.70\tScore: 24.61\n",
      "Episode 124\tMin Score: 15.97\tMax Score: 34.60\tAverage Score: 18.85\tScore: 26.23\n",
      "Episode 125\tMin Score: 3.45\tMax Score: 34.65\tAverage Score: 18.94\tScore: 23.40\n",
      "Episode 126\tMin Score: 20.54\tMax Score: 37.65\tAverage Score: 19.08\tScore: 27.50\n",
      "Episode 127\tMin Score: 16.19\tMax Score: 38.38\tAverage Score: 19.23\tScore: 27.74\n",
      "Episode 128\tMin Score: 6.31\tMax Score: 33.61\tAverage Score: 19.35\tScore: 25.57\n",
      "Episode 129\tMin Score: 15.23\tMax Score: 34.77\tAverage Score: 19.54\tScore: 27.69\n",
      "Episode 130\tMin Score: 19.66\tMax Score: 35.95\tAverage Score: 19.75\tScore: 31.07\n",
      "Episode 131\tMin Score: 1.79\tMax Score: 39.34\tAverage Score: 19.91\tScore: 27.69\n",
      "Episode 132\tMin Score: 7.36\tMax Score: 37.06\tAverage Score: 20.02\tScore: 23.85\n",
      "Episode 133\tMin Score: 18.02\tMax Score: 39.11\tAverage Score: 20.21\tScore: 29.26\n",
      "Episode 134\tMin Score: 12.76\tMax Score: 38.60\tAverage Score: 20.39\tScore: 28.53\n",
      "Episode 135\tMin Score: 20.76\tMax Score: 39.32\tAverage Score: 20.56\tScore: 28.54\n",
      "Episode 136\tMin Score: 17.63\tMax Score: 35.73\tAverage Score: 20.74\tScore: 27.90\n",
      "Episode 137\tMin Score: 20.34\tMax Score: 34.33\tAverage Score: 20.91\tScore: 28.53\n",
      "Episode 138\tMin Score: 19.86\tMax Score: 39.24\tAverage Score: 21.12\tScore: 29.59\n",
      "Episode 139\tMin Score: 10.63\tMax Score: 36.52\tAverage Score: 21.29\tScore: 27.22\n",
      "Episode 140\tMin Score: 12.07\tMax Score: 39.56\tAverage Score: 21.48\tScore: 28.04\n",
      "Episode 141\tMin Score: 13.53\tMax Score: 39.32\tAverage Score: 21.64\tScore: 27.79\n",
      "Episode 142\tMin Score: 18.33\tMax Score: 38.67\tAverage Score: 21.85\tScore: 33.70\n",
      "Episode 143\tMin Score: 22.71\tMax Score: 37.78\tAverage Score: 22.06\tScore: 31.70\n",
      "Episode 144\tMin Score: 16.31\tMax Score: 39.32\tAverage Score: 22.30\tScore: 34.62\n",
      "Episode 145\tMin Score: 18.85\tMax Score: 38.86\tAverage Score: 22.52\tScore: 33.58\n",
      "Episode 146\tMin Score: 18.38\tMax Score: 38.99\tAverage Score: 22.64\tScore: 28.56\n",
      "Episode 147\tMin Score: 23.09\tMax Score: 39.11\tAverage Score: 22.89\tScore: 34.96\n",
      "Episode 148\tMin Score: 20.11\tMax Score: 38.53\tAverage Score: 23.07\tScore: 32.57\n",
      "Episode 149\tMin Score: 25.18\tMax Score: 39.28\tAverage Score: 23.25\tScore: 33.58\n",
      "Episode 150\tMin Score: 20.32\tMax Score: 39.02\tAverage Score: 23.45\tScore: 33.45\n",
      "Episode 151\tMin Score: 16.83\tMax Score: 37.02\tAverage Score: 23.61\tScore: 31.57\n",
      "Episode 152\tMin Score: 23.78\tMax Score: 38.32\tAverage Score: 23.79\tScore: 34.13\n",
      "Episode 153\tMin Score: 24.05\tMax Score: 38.53\tAverage Score: 23.96\tScore: 32.26\n",
      "Episode 154\tMin Score: 28.96\tMax Score: 38.88\tAverage Score: 24.12\tScore: 34.22\n",
      "Episode 155\tMin Score: 31.82\tMax Score: 39.53\tAverage Score: 24.29\tScore: 35.97\n",
      "Episode 156\tMin Score: 27.97\tMax Score: 39.13\tAverage Score: 24.52\tScore: 36.34\n",
      "Episode 157\tMin Score: 22.87\tMax Score: 39.30\tAverage Score: 24.74\tScore: 36.23\n",
      "Episode 158\tMin Score: 25.03\tMax Score: 39.00\tAverage Score: 24.89\tScore: 32.89\n",
      "Episode 159\tMin Score: 14.49\tMax Score: 39.49\tAverage Score: 25.07\tScore: 35.06\n",
      "Episode 160\tMin Score: 11.69\tMax Score: 39.14\tAverage Score: 25.24\tScore: 34.39\n",
      "Episode 161\tMin Score: 5.54\tMax Score: 39.07\tAverage Score: 25.36\tScore: 31.85\n",
      "Episode 162\tMin Score: 26.42\tMax Score: 38.55\tAverage Score: 25.53\tScore: 35.13\n",
      "Episode 163\tMin Score: 17.71\tMax Score: 38.33\tAverage Score: 25.71\tScore: 33.57\n",
      "Episode 164\tMin Score: 17.44\tMax Score: 38.51\tAverage Score: 25.85\tScore: 32.42\n",
      "Episode 165\tMin Score: 24.75\tMax Score: 38.89\tAverage Score: 25.99\tScore: 32.11\n",
      "Episode 166\tMin Score: 29.16\tMax Score: 39.32\tAverage Score: 26.15\tScore: 35.29\n",
      "Episode 167\tMin Score: 3.55\tMax Score: 39.40\tAverage Score: 26.29\tScore: 32.45\n",
      "Episode 168\tMin Score: 22.52\tMax Score: 38.85\tAverage Score: 26.42\tScore: 34.85\n",
      "Episode 169\tMin Score: 31.56\tMax Score: 39.14\tAverage Score: 26.61\tScore: 36.49\n",
      "Episode 170\tMin Score: 20.17\tMax Score: 38.58\tAverage Score: 26.71\tScore: 33.89\n",
      "Episode 171\tMin Score: 22.11\tMax Score: 38.38\tAverage Score: 26.84\tScore: 33.78\n",
      "Episode 172\tMin Score: 21.60\tMax Score: 39.04\tAverage Score: 26.97\tScore: 33.21\n",
      "Episode 173\tMin Score: 18.16\tMax Score: 39.03\tAverage Score: 27.12\tScore: 33.03\n",
      "Episode 174\tMin Score: 17.49\tMax Score: 34.36\tAverage Score: 27.20\tScore: 25.99\n",
      "Episode 175\tMin Score: 20.45\tMax Score: 36.01\tAverage Score: 27.29\tScore: 29.43\n",
      "Episode 176\tMin Score: 20.13\tMax Score: 36.99\tAverage Score: 27.38\tScore: 29.26\n",
      "Episode 177\tMin Score: 19.86\tMax Score: 35.82\tAverage Score: 27.48\tScore: 28.88\n",
      "Episode 178\tMin Score: 17.21\tMax Score: 36.77\tAverage Score: 27.56\tScore: 27.96\n",
      "Episode 179\tMin Score: 14.43\tMax Score: 38.76\tAverage Score: 27.68\tScore: 32.27\n",
      "Episode 180\tMin Score: 22.45\tMax Score: 38.42\tAverage Score: 27.74\tScore: 29.29\n",
      "Episode 181\tMin Score: 21.85\tMax Score: 38.99\tAverage Score: 27.82\tScore: 28.55\n",
      "Episode 182\tMin Score: 15.46\tMax Score: 36.95\tAverage Score: 27.92\tScore: 29.52\n",
      "Episode 183\tMin Score: 30.99\tMax Score: 39.39\tAverage Score: 28.05\tScore: 36.05\n",
      "Episode 184\tMin Score: 27.21\tMax Score: 38.56\tAverage Score: 28.17\tScore: 33.48\n",
      "Episode 185\tMin Score: 28.94\tMax Score: 39.10\tAverage Score: 28.31\tScore: 34.09\n",
      "Episode 186\tMin Score: 16.19\tMax Score: 38.76\tAverage Score: 28.40\tScore: 29.58\n",
      "Episode 187\tMin Score: 5.91\tMax Score: 38.71\tAverage Score: 28.48\tScore: 31.97\n",
      "Episode 188\tMin Score: 13.15\tMax Score: 37.61\tAverage Score: 28.57\tScore: 29.50\n",
      "Episode 189\tMin Score: 10.06\tMax Score: 35.62\tAverage Score: 28.67\tScore: 28.47\n",
      "Episode 190\tMin Score: 4.88\tMax Score: 36.51\tAverage Score: 28.70\tScore: 25.69\n",
      "Episode 191\tMin Score: 1.76\tMax Score: 36.86\tAverage Score: 28.73\tScore: 23.37\n",
      "Episode 192\tMin Score: 19.54\tMax Score: 39.10\tAverage Score: 28.87\tScore: 34.17\n",
      "Episode 193\tMin Score: 16.38\tMax Score: 39.64\tAverage Score: 28.97\tScore: 30.27\n",
      "Episode 194\tMin Score: 12.68\tMax Score: 39.55\tAverage Score: 29.07\tScore: 32.94\n",
      "Episode 195\tMin Score: 16.04\tMax Score: 38.05\tAverage Score: 29.15\tScore: 33.40\n",
      "Episode 196\tMin Score: 13.40\tMax Score: 39.56\tAverage Score: 29.26\tScore: 32.46\n",
      "Episode 197\tMin Score: 14.47\tMax Score: 38.90\tAverage Score: 29.38\tScore: 32.25\n",
      "Episode 198\tMin Score: 17.07\tMax Score: 39.41\tAverage Score: 29.48\tScore: 35.11\n",
      "Episode 199\tMin Score: 30.56\tMax Score: 39.56\tAverage Score: 29.60\tScore: 35.62\n",
      "Episode 200\tMin Score: 16.37\tMax Score: 39.67\tAverage Score: 29.70\tScore: 35.23\n",
      "Episode 200\tAverage Score: 29.70\n",
      "Episode 201\tMin Score: 25.98\tMax Score: 39.58\tAverage Score: 29.86\tScore: 37.15\n",
      "Episode 202\tMin Score: 3.09\tMax Score: 39.60\tAverage Score: 29.95\tScore: 33.83\n",
      "Episode 203\tMin Score: 27.49\tMax Score: 38.96\tAverage Score: 30.03\tScore: 34.18\n",
      "\n",
      "Environment solved in 203 episodes!\tAverage Score: 30.03\n"
     ]
    }
   ],
   "source": [
    "from workspace_utils import active_session\n",
    "with active_session() :\n",
    "    scores, scores_mean = ddpg(n_episodes=500)"
   ]
  },
  {
   "cell_type": "markdown",
   "metadata": {},
   "source": [
    "### 5. Training Results"
   ]
  },
  {
   "cell_type": "code",
   "execution_count": 1,
   "metadata": {},
   "outputs": [],
   "source": [
    "import pickle"
   ]
  },
  {
   "cell_type": "code",
   "execution_count": 3,
   "metadata": {},
   "outputs": [],
   "source": [
    "scores_path = './scores.pickle'\n",
    "scores_mean_path = './scores_mean.pickle'\n",
    "#with open(scores_path, 'wb') as fp:\n",
    "#    pickle.dump(scores, fp)\n",
    "#with open(scores_mean_path, 'wb') as fp:\n",
    "#    pickle.dump(scores_mean, fp)"
   ]
  },
  {
   "cell_type": "code",
   "execution_count": 4,
   "metadata": {},
   "outputs": [],
   "source": [
    "with open(scores_path, 'rb') as f:\n",
    "    scores_result = pickle.load(f)\n",
    "with open(scores_mean_path, 'rb') as f:\n",
    "    scores_mean_result = pickle.load(f)"
   ]
  },
  {
   "cell_type": "code",
   "execution_count": 6,
   "metadata": {},
   "outputs": [
    {
     "data": {
      "image/png": "[encoded data removed]",
      "text/plain": [
       "<matplotlib.figure.Figure at 0x7fc54cfda0f0>"
      ]
     },
     "metadata": {
      "needs_background": "light"
     },
     "output_type": "display_data"
    }
   ],
   "source": [
    "import matplotlib.pyplot as plt\n",
    "%matplotlib inline\n",
    "\n",
    "fig, ax = plt.subplots(1, 1, figsize=[10, 5])\n",
    "\n",
    "ax.axhline(30, c=\"blue\", linewidth=4, alpha=0.5)\n",
    "ax.plot(scores_result, \"-\", c=\"black\", alpha=0.25)\n",
    "ax.plot(scores_mean_result, \"-\", c=\"red\", linewidth=3)\n",
    "\n",
    "ax.set_xlabel(\"Episode #\")\n",
    "ax.set_ylabel(\"Score\")\n",
    "ax.set_title(\"DDPG\")\n",
    "#plt.plot(np.arange(1, len(scores_result)+1), scores_result, np.arange(1, len(scores_mean_result)+1), scores_mean_result)\n",
    "#plt.ylabel('Score')\n",
    "#plt.xlabel('Episode #')\n",
    "\n",
    "fig.savefig(\"./DDPG_result.jpg\")"
   ]
  },
  {
   "cell_type": "markdown",
   "metadata": {},
   "source": [
    "When finished, you can close the environment."
   ]
  },
  {
   "cell_type": "code",
   "execution_count": 16,
   "metadata": {},
   "outputs": [],
   "source": [
    "env.close()"
   ]
  }
 ],
 "metadata": {
  "kernelspec": {
   "display_name": "Python 3",
   "language": "python",
   "name": "python3"
  },
  "language_info": {
   "codemirror_mode": {
    "name": "ipython",
    "version": 3
   },
   "file_extension": ".py",
   "mimetype": "text/x-python",
   "name": "python",
   "nbconvert_exporter": "python",
   "pygments_lexer": "ipython3",
   "version": "3.6.3"
  }
 },
 "nbformat": 4,
 "nbformat_minor": 2
}
